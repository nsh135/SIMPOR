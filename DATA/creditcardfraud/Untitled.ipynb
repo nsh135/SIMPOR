{
 "cells": [
  {
   "cell_type": "code",
   "execution_count": 1,
   "id": "applied-serum",
   "metadata": {},
   "outputs": [
    {
     "name": "stdout",
     "output_type": "stream",
     "text": [
      "N Examples: 284806\n",
      "N Inputs: 30\n",
      "N Classes: 2\n",
      "Classes: [0. 1.]\n",
      "Class Breakdown:\n",
      " - Class 0.0: 284314 (99.82725%)\n",
      " - Class 1.0: 492 (0.17275%)\n"
     ]
    }
   ],
   "source": [
    "from numpy import unique\n",
    "from pandas import read_csv\n",
    "import numpy as np\n",
    "\n",
    "def load_creditcard():\n",
    "    # load the dataset\n",
    "    dataframe = read_csv('creditcard.csv')\n",
    "    # get the values\n",
    "    values = dataframe.values\n",
    "    X, y = values[:, :-1], values[:, -1]\n",
    "    # gather details\n",
    "    n_rows = X.shape[0]\n",
    "    n_cols = X.shape[1]\n",
    "    classes = unique(y)\n",
    "    n_classes = len(classes)\n",
    "    # summarize\n",
    "    print('N Examples: %d' % n_rows)\n",
    "    print('N Inputs: %d' % n_cols)\n",
    "    print('N Classes: %d' % n_classes)\n",
    "    print('Classes: %s' % classes)\n",
    "    print('Class Breakdown:')\n",
    "    # class breakdown\n",
    "    breakdown = ''\n",
    "    for c in classes:\n",
    "        total = len(y[y == c])\n",
    "        ratio = (total / float(len(y))) * 100\n",
    "        print(' - Class %s: %d (%.5f%%)' % (str(c), total, ratio))\n",
    "    return np.array(X),np.array(y) \n"
   ]
  },
  {
   "cell_type": "code",
   "execution_count": null,
   "id": "million-batman",
   "metadata": {},
   "outputs": [],
   "source": []
  },
  {
   "cell_type": "code",
   "execution_count": null,
   "id": "enclosed-possession",
   "metadata": {},
   "outputs": [],
   "source": []
  }
 ],
 "metadata": {
  "kernelspec": {
   "display_name": "Python 3",
   "language": "python",
   "name": "python3"
  },
  "language_info": {
   "codemirror_mode": {
    "name": "ipython",
    "version": 3
   },
   "file_extension": ".py",
   "mimetype": "text/x-python",
   "name": "python",
   "nbconvert_exporter": "python",
   "pygments_lexer": "ipython3",
   "version": "3.6.10"
  }
 },
 "nbformat": 4,
 "nbformat_minor": 5
}
