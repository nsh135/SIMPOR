{
 "cells": [
  {
   "cell_type": "code",
   "execution_count": null,
   "id": "graphic-drilling",
   "metadata": {},
   "outputs": [],
   "source": []
  },
  {
   "cell_type": "code",
   "execution_count": 19,
   "id": "indian-efficiency",
   "metadata": {},
   "outputs": [
    {
     "name": "stdout",
     "output_type": "stream",
     "text": [
      "Dataset: Class0=501, Class1=499\n",
      "Train: Class0=10, Class1=249\n",
      "No Skill ROC AUC 0.909\n",
      "Logistic ROC AUC 0.763\n"
     ]
    },
    {
     "data": {
      "image/png": "[encoded data removed]",
      "text/plain": [
       "<Figure size 432x288 with 1 Axes>"
      ]
     },
     "metadata": {
      "needs_background": "light"
     },
     "output_type": "display_data"
    }
   ],
   "source": [
    "# roc curve and roc auc on an imbalanced dataset\n",
    "from sklearn.datasets import make_classification\n",
    "from sklearn.linear_model import LogisticRegression\n",
    "from sklearn.dummy import DummyClassifier\n",
    "from sklearn.model_selection import train_test_split\n",
    "from sklearn.metrics import roc_curve\n",
    "from sklearn.metrics import roc_auc_score\n",
    "from matplotlib import pyplot\n",
    "import numpy as np\n",
    "\n",
    "# plot no skill and model roc curves\n",
    "def plot_roc_curve(test_y, naive_probs, model_probs):\n",
    "\t# plot naive skill roc curve\n",
    "\tfpr, tpr, _ = roc_curve(test_y, naive_probs)\n",
    "\tpyplot.plot(fpr, tpr, linestyle='--', label='No Skill')\n",
    "\t# plot model roc curve\n",
    "\tfpr, tpr, _ = roc_curve(test_y, model_probs)\n",
    "\tpyplot.plot(fpr, tpr, marker='.', label='Logistic')\n",
    "\t# axis labels\n",
    "\tpyplot.xlabel('False Positive Rate')\n",
    "\tpyplot.ylabel('True Positive Rate')\n",
    "\t# show the legend\n",
    "\tpyplot.legend()\n",
    "\t# show the plot\n",
    "\tpyplot.show()\n",
    "\n",
    "\n",
    "\n",
    "#balanced data \n",
    "X, y = make_classification(n_samples=1000, n_classes=2, random_state=1)\n",
    "# split into train/test sets with same class ratio\n",
    "trainX_b, testX_b, trainy_b, testy_b = train_test_split(X, y, test_size=0.5, random_state=2, stratify=y)\n",
    "\n",
    "\n",
    "##remove some data\n",
    "trainX = trainX_b[0:-1]\n",
    "trainy = trainy_b[0:-1]\n",
    "for i in range(240):\n",
    "    for inx,_ in enumerate(trainy):\n",
    "        if trainy[inx] == 0: \n",
    "            trainX = np.delete(trainX,inx,0)\n",
    "            trainy = np.delete(trainy,inx,0)\n",
    "            break\n",
    "            \n",
    "print('Dataset: Class0=%d, Class1=%d' % (len(y[y==0]), len(y[y==1])))\n",
    "print('Train: Class0=%d, Class1=%d' % (len(trainy[trainy==0]), len(trainy[trainy==1])))\n",
    "\n",
    "# no skill model, stratified random class predictions\n",
    "model = LogisticRegression(solver='lbfgs')\n",
    "model.fit(trainX_b, trainy_b)\n",
    "yhat = model.predict_proba(testX_b)\n",
    "naive_probs = yhat[:, 1]\n",
    "# calculate roc auc\n",
    "roc_auc = roc_auc_score(testy_b, naive_probs)\n",
    "print('No Skill ROC AUC %.3f' % roc_auc)\n",
    "# skilled model\n",
    "model = LogisticRegression(solver='lbfgs')\n",
    "model.fit(trainX, trainy)\n",
    "yhat = model.predict_proba(testX_b)\n",
    "model_probs = yhat[:, 1]\n",
    "# calculate roc auc\n",
    "roc_auc = roc_auc_score(testy_b, model_probs)\n",
    "print('Logistic ROC AUC %.3f' % roc_auc)\n",
    "# plot roc curves\n",
    "plot_roc_curve(testy_b, naive_probs, model_probs)"
   ]
  },
  {
   "cell_type": "code",
   "execution_count": null,
   "id": "enormous-approval",
   "metadata": {},
   "outputs": [],
   "source": []
  }
 ],
 "metadata": {
  "kernelspec": {
   "display_name": "Python 3",
   "language": "python",
   "name": "python3"
  },
  "language_info": {
   "codemirror_mode": {
    "name": "ipython",
    "version": 3
   },
   "file_extension": ".py",
   "mimetype": "text/x-python",
   "name": "python",
   "nbconvert_exporter": "python",
   "pygments_lexer": "ipython3",
   "version": "3.6.10"
  }
 },
 "nbformat": 4,
 "nbformat_minor": 5
}
